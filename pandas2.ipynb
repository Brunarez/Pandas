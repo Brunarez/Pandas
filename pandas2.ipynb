{
 "cells": [
  {
   "cell_type": "markdown",
   "metadata": {},
   "source": [
    "# <center> Intermediate Pandas Python Library for Data Science"
   ]
  },
  {
   "cell_type": "markdown",
   "metadata": {},
   "source": [
    "### <center>  Instructor: Vinita Silaparasetty"
   ]
  },
  {
   "cell_type": "markdown",
   "metadata": {},
   "source": [
    "#### Import Libraries"
   ]
  },
  {
   "cell_type": "code",
   "execution_count": null,
   "metadata": {},
   "outputs": [],
   "source": [
    "import numpy as np               #import numpy as np for convenience.\n",
    "import pandas as pd              #import pandas as pd for convenience."
   ]
  },
  {
   "cell_type": "markdown",
   "metadata": {},
   "source": [
    "#### Load Data"
   ]
  },
  {
   "cell_type": "code",
   "execution_count": 1,
   "metadata": {},
   "outputs": [
    {
     "data": {
      "text/html": [
       "<div>\n",
       "<style scoped>\n",
       "    .dataframe tbody tr th:only-of-type {\n",
       "        vertical-align: middle;\n",
       "    }\n",
       "\n",
       "    .dataframe tbody tr th {\n",
       "        vertical-align: top;\n",
       "    }\n",
       "\n",
       "    .dataframe thead th {\n",
       "        text-align: right;\n",
       "    }\n",
       "</style>\n",
       "<table border=\"1\" class=\"dataframe\">\n",
       "  <thead>\n",
       "    <tr style=\"text-align: right;\">\n",
       "      <th></th>\n",
       "      <th>countryc</th>\n",
       "      <th>year</th>\n",
       "      <th>agrgdp</th>\n",
       "      <th>popn</th>\n",
       "      <th>infmort</th>\n",
       "      <th>schprim</th>\n",
       "      <th>schsec</th>\n",
       "      <th>grtdsbp</th>\n",
       "      <th>grlndsbp</th>\n",
       "      <th>aiddsbp</th>\n",
       "      <th>...</th>\n",
       "      <th>dcurexpp</th>\n",
       "      <th>dcapexpp</th>\n",
       "      <th>dprirepp</th>\n",
       "      <th>dcnlnagp</th>\n",
       "      <th>dcnlnenp</th>\n",
       "      <th>dcnlninp</th>\n",
       "      <th>dcnlntacp</th>\n",
       "      <th>dcnlnedup</th>\n",
       "      <th>dcnlnhthp</th>\n",
       "      <th>dcnlnothp</th>\n",
       "    </tr>\n",
       "  </thead>\n",
       "  <tbody>\n",
       "    <tr>\n",
       "      <th>0</th>\n",
       "      <td>Burkina Faso</td>\n",
       "      <td>1970</td>\n",
       "      <td>35.44188862</td>\n",
       "      <td>5633000.0</td>\n",
       "      <td>141.3999939</td>\n",
       "      <td>13</td>\n",
       "      <td>1</td>\n",
       "      <td>13.3182802200317</td>\n",
       "      <td>1.02303504943848</td>\n",
       "      <td>14.3413200378418</td>\n",
       "      <td>...</td>\n",
       "      <td>1.79769313486232e+308</td>\n",
       "      <td>1.79769313486232e+308</td>\n",
       "      <td>1.79769313486232e+308</td>\n",
       "      <td>1.79769313486232e+308</td>\n",
       "      <td>1.79769313486232e+308</td>\n",
       "      <td>1.79769313486232e+308</td>\n",
       "      <td>1.79769313486232e+308</td>\n",
       "      <td>1.79769313486232e+308</td>\n",
       "      <td>1.79769313486232e+308</td>\n",
       "      <td>1.79769313486232e+308</td>\n",
       "    </tr>\n",
       "    <tr>\n",
       "      <th>1</th>\n",
       "      <td>Burkina Faso</td>\n",
       "      <td>1970</td>\n",
       "      <td>35.44188862</td>\n",
       "      <td>5633000.0</td>\n",
       "      <td>141.3999939</td>\n",
       "      <td>13</td>\n",
       "      <td>1</td>\n",
       "      <td>13.3182802200317</td>\n",
       "      <td>1.02303504943848</td>\n",
       "      <td>14.3413200378418</td>\n",
       "      <td>...</td>\n",
       "      <td>1.79769313486232e+308</td>\n",
       "      <td>1.79769313486232e+308</td>\n",
       "      <td>1.79769313486232e+308</td>\n",
       "      <td>1.79769313486232e+308</td>\n",
       "      <td>1.79769313486232e+308</td>\n",
       "      <td>1.79769313486232e+308</td>\n",
       "      <td>1.79769313486232e+308</td>\n",
       "      <td>1.79769313486232e+308</td>\n",
       "      <td>1.79769313486232e+308</td>\n",
       "      <td>1.79769313486232e+308</td>\n",
       "    </tr>\n",
       "    <tr>\n",
       "      <th>2</th>\n",
       "      <td>Burkina Faso</td>\n",
       "      <td>1971</td>\n",
       "      <td>36.16739069</td>\n",
       "      <td>5740700.0</td>\n",
       "      <td>139.1999969</td>\n",
       "      <td>13.6</td>\n",
       "      <td>1.2</td>\n",
       "      <td>16.7043991088867</td>\n",
       "      <td>0.655763506889343</td>\n",
       "      <td>17.3601703643799</td>\n",
       "      <td>...</td>\n",
       "      <td>1.79769313486232e+308</td>\n",
       "      <td>1.79769313486232e+308</td>\n",
       "      <td>1.79769313486232e+308</td>\n",
       "      <td>1.79769313486232e+308</td>\n",
       "      <td>1.79769313486232e+308</td>\n",
       "      <td>1.79769313486232e+308</td>\n",
       "      <td>1.79769313486232e+308</td>\n",
       "      <td>1.79769313486232e+308</td>\n",
       "      <td>1.79769313486232e+308</td>\n",
       "      <td>1.79769313486232e+308</td>\n",
       "    </tr>\n",
       "  </tbody>\n",
       "</table>\n",
       "<p>3 rows × 50 columns</p>\n",
       "</div>"
      ],
      "text/plain": [
       "       countryc  year       agrgdp       popn      infmort schprim schsec  \\\n",
       "0  Burkina Faso  1970  35.44188862  5633000.0  141.3999939      13      1   \n",
       "1  Burkina Faso  1970  35.44188862  5633000.0  141.3999939      13      1   \n",
       "2  Burkina Faso  1971  36.16739069  5740700.0  139.1999969    13.6    1.2   \n",
       "\n",
       "            grtdsbp           grlndsbp           aiddsbp  ...  \\\n",
       "0  13.3182802200317   1.02303504943848  14.3413200378418  ...   \n",
       "1  13.3182802200317   1.02303504943848  14.3413200378418  ...   \n",
       "2  16.7043991088867  0.655763506889343  17.3601703643799  ...   \n",
       "\n",
       "                dcurexpp               dcapexpp               dprirepp  \\\n",
       "0  1.79769313486232e+308  1.79769313486232e+308  1.79769313486232e+308   \n",
       "1  1.79769313486232e+308  1.79769313486232e+308  1.79769313486232e+308   \n",
       "2  1.79769313486232e+308  1.79769313486232e+308  1.79769313486232e+308   \n",
       "\n",
       "                dcnlnagp               dcnlnenp               dcnlninp  \\\n",
       "0  1.79769313486232e+308  1.79769313486232e+308  1.79769313486232e+308   \n",
       "1  1.79769313486232e+308  1.79769313486232e+308  1.79769313486232e+308   \n",
       "2  1.79769313486232e+308  1.79769313486232e+308  1.79769313486232e+308   \n",
       "\n",
       "               dcnlntacp              dcnlnedup              dcnlnhthp  \\\n",
       "0  1.79769313486232e+308  1.79769313486232e+308  1.79769313486232e+308   \n",
       "1  1.79769313486232e+308  1.79769313486232e+308  1.79769313486232e+308   \n",
       "2  1.79769313486232e+308  1.79769313486232e+308  1.79769313486232e+308   \n",
       "\n",
       "               dcnlnothp  \n",
       "0  1.79769313486232e+308  \n",
       "1  1.79769313486232e+308  \n",
       "2  1.79769313486232e+308  \n",
       "\n",
       "[3 rows x 50 columns]"
      ]
     },
     "execution_count": 1,
     "metadata": {},
     "output_type": "execute_result"
    }
   ],
   "source": [
    "df=pd.read_csv(\"https://raw.githubusercontent.com/VinitaSilaparasetty/Coursera-Intermediate-Pandas/master/What_does_aid_to_Africa_finance_1.csv \")\n",
    "\n",
    "df.head(3) #Ensure data has loaded correctly."
   ]
  },
  {
   "cell_type": "markdown",
   "metadata": {},
   "source": [
    "#### Splitting Data"
   ]
  },
  {
   "cell_type": "code",
   "execution_count": null,
   "metadata": {},
   "outputs": [],
   "source": [
    "df_new = df.copy()\n",
    "df1 = df_new.sample(frac = 0.25, random_state = 0) #we set that to 0, so that the values for df1 are not selected at random\n",
    "df_new = df_new.drop(df1.index)\n",
    "#this gonna drop whichever values have been assigned to df1"
   ]
  },
  {
   "cell_type": "markdown",
   "metadata": {},
   "source": [
    "## <center> Handle Missing Values"
   ]
  },
  {
   "cell_type": "markdown",
   "metadata": {},
   "source": [
    "#### Detect Missing Values"
   ]
  },
  {
   "cell_type": "code",
   "execution_count": null,
   "metadata": {},
   "outputs": [],
   "source": []
  },
  {
   "cell_type": "markdown",
   "metadata": {},
   "source": [
    "### <center> Impute Missing Values"
   ]
  },
  {
   "cell_type": "markdown",
   "metadata": {},
   "source": [
    "<center><a>\n",
    "   <img src=\"https://github.com/VinitaSilaparasetty/Coursera-Intermediate-Pandas/blob/master/media/imputation.gif?raw=true\" width=\"700\" height=\"600\">\n",
    "</a>"
   ]
  },
  {
   "cell_type": "code",
   "execution_count": null,
   "metadata": {},
   "outputs": [],
   "source": []
  },
  {
   "cell_type": "code",
   "execution_count": null,
   "metadata": {},
   "outputs": [],
   "source": []
  },
  {
   "cell_type": "code",
   "execution_count": null,
   "metadata": {},
   "outputs": [],
   "source": []
  },
  {
   "cell_type": "code",
   "execution_count": null,
   "metadata": {},
   "outputs": [],
   "source": []
  },
  {
   "cell_type": "markdown",
   "metadata": {},
   "source": [
    "### <center> Interpolate Missing Values"
   ]
  },
  {
   "cell_type": "markdown",
   "metadata": {},
   "source": [
    "<center><a>\n",
    "   <img src=\"https://github.com/VinitaSilaparasetty/Coursera-Intermediate-Pandas/blob/master/media/interpolation.gif?raw=true\" width=\"700\" height=\"600\">\n",
    "</a>"
   ]
  },
  {
   "cell_type": "code",
   "execution_count": null,
   "metadata": {},
   "outputs": [],
   "source": []
  },
  {
   "cell_type": "code",
   "execution_count": null,
   "metadata": {},
   "outputs": [],
   "source": []
  },
  {
   "cell_type": "markdown",
   "metadata": {},
   "source": [
    "## <center>🏆 Challenge\n",
    "\n",
    "Detect missing values in df2 and decide on the best method to handle them with respect to infant mortality rate."
   ]
  },
  {
   "cell_type": "code",
   "execution_count": null,
   "metadata": {},
   "outputs": [],
   "source": [
    "#detect missing values"
   ]
  },
  {
   "cell_type": "code",
   "execution_count": null,
   "metadata": {},
   "outputs": [],
   "source": [
    "#handle missing values"
   ]
  },
  {
   "cell_type": "markdown",
   "metadata": {},
   "source": [
    "## <center> Combining Data"
   ]
  },
  {
   "cell_type": "markdown",
   "metadata": {},
   "source": [
    "#### Joining"
   ]
  },
  {
   "cell_type": "code",
   "execution_count": null,
   "metadata": {},
   "outputs": [],
   "source": []
  },
  {
   "cell_type": "markdown",
   "metadata": {},
   "source": [
    "#### Concatenation"
   ]
  },
  {
   "cell_type": "code",
   "execution_count": null,
   "metadata": {},
   "outputs": [],
   "source": []
  },
  {
   "cell_type": "markdown",
   "metadata": {},
   "source": [
    "# <center>  Advanced Joins"
   ]
  },
  {
   "cell_type": "markdown",
   "metadata": {},
   "source": [
    "<center> <img src=\"https://github.com/VinitaSilaparasetty/Coursera-Intermediate-Pandas/blob/master/media/inner-join.png?raw=true\" width=\"600\" height=\"600\">"
   ]
  },
  {
   "cell_type": "code",
   "execution_count": null,
   "metadata": {},
   "outputs": [],
   "source": []
  },
  {
   "cell_type": "markdown",
   "metadata": {},
   "source": [
    "<center> <img src=\"https://github.com/VinitaSilaparasetty/Coursera-Intermediate-Pandas/blob/master/media/full-outer-inclusive-join.png?raw=true\" width=\"600\" height=\"600\">"
   ]
  },
  {
   "cell_type": "code",
   "execution_count": null,
   "metadata": {},
   "outputs": [],
   "source": []
  },
  {
   "cell_type": "markdown",
   "metadata": {},
   "source": [
    "<center> <img src=\"https://github.com/VinitaSilaparasetty/Coursera-Intermediate-Pandas/blob/master/media/left-inclusive-join.png?raw=true\" width=\"600\" height=\"600\">"
   ]
  },
  {
   "cell_type": "code",
   "execution_count": null,
   "metadata": {},
   "outputs": [],
   "source": []
  },
  {
   "cell_type": "markdown",
   "metadata": {},
   "source": [
    "<center> <img src=\"https://github.com/VinitaSilaparasetty/Coursera-Intermediate-Pandas/blob/master/media/right-inclusive-join.png?raw=true\" width=\"600\" height=\"600\">"
   ]
  },
  {
   "cell_type": "code",
   "execution_count": null,
   "metadata": {},
   "outputs": [],
   "source": []
  },
  {
   "cell_type": "markdown",
   "metadata": {},
   "source": [
    "## <center>🏆 Challenge\n",
    "\n",
    "Generate a new data frame which contains information only from those African countries with the same 'Agriculture as a Share of GDP'."
   ]
  },
  {
   "cell_type": "code",
   "execution_count": null,
   "metadata": {},
   "outputs": [],
   "source": []
  },
  {
   "cell_type": "markdown",
   "metadata": {},
   "source": [
    "## <center> Sorting"
   ]
  },
  {
   "cell_type": "markdown",
   "metadata": {},
   "source": [
    "###### Sort values by a single column"
   ]
  },
  {
   "cell_type": "code",
   "execution_count": null,
   "metadata": {},
   "outputs": [],
   "source": []
  },
  {
   "cell_type": "markdown",
   "metadata": {},
   "source": [
    "###### Sort values by row labels"
   ]
  },
  {
   "cell_type": "code",
   "execution_count": null,
   "metadata": {},
   "outputs": [],
   "source": []
  },
  {
   "cell_type": "markdown",
   "metadata": {},
   "source": [
    "## <center>🏆 Challenge\n",
    "\n",
    "Sort the values in df3 according to the least 'Secondary School Enrolment Rate'. Select the best method for sorting to solve this challenge."
   ]
  },
  {
   "cell_type": "code",
   "execution_count": null,
   "metadata": {},
   "outputs": [],
   "source": []
  },
  {
   "cell_type": "markdown",
   "metadata": {},
   "source": [
    "### <center> Selection"
   ]
  },
  {
   "cell_type": "markdown",
   "metadata": {},
   "source": [
    "### Select columns by their names"
   ]
  },
  {
   "cell_type": "code",
   "execution_count": null,
   "metadata": {},
   "outputs": [],
   "source": []
  },
  {
   "cell_type": "markdown",
   "metadata": {},
   "source": [
    "### Select columns by index"
   ]
  },
  {
   "cell_type": "code",
   "execution_count": null,
   "metadata": {},
   "outputs": [],
   "source": []
  },
  {
   "cell_type": "markdown",
   "metadata": {},
   "source": [
    "### <center> Slicing"
   ]
  },
  {
   "cell_type": "code",
   "execution_count": null,
   "metadata": {},
   "outputs": [],
   "source": []
  },
  {
   "cell_type": "code",
   "execution_count": null,
   "metadata": {},
   "outputs": [],
   "source": []
  },
  {
   "cell_type": "markdown",
   "metadata": {},
   "source": [
    "## <center>🏆 Challenge\n",
    "\n",
    "Select only those values in df4 that relate to the concessionary loans to various sectors in Africa."
   ]
  },
  {
   "cell_type": "code",
   "execution_count": null,
   "metadata": {},
   "outputs": [],
   "source": []
  },
  {
   "cell_type": "markdown",
   "metadata": {},
   "source": [
    "### <center>Grouping"
   ]
  },
  {
   "cell_type": "markdown",
   "metadata": {},
   "source": [
    "#### Group by multiple columns"
   ]
  },
  {
   "cell_type": "code",
   "execution_count": null,
   "metadata": {},
   "outputs": [],
   "source": []
  },
  {
   "cell_type": "markdown",
   "metadata": {},
   "source": [
    "#### Calculate the aggregate of a group"
   ]
  },
  {
   "cell_type": "code",
   "execution_count": null,
   "metadata": {},
   "outputs": [],
   "source": []
  },
  {
   "cell_type": "markdown",
   "metadata": {},
   "source": [
    "## <center>🏆 Challenge\n",
    "Group the values in df1 by their 'GDP per Capita in 1995'."
   ]
  },
  {
   "cell_type": "code",
   "execution_count": null,
   "metadata": {},
   "outputs": [],
   "source": []
  },
  {
   "cell_type": "markdown",
   "metadata": {},
   "source": [
    "## <center> Binning Data"
   ]
  },
  {
   "cell_type": "markdown",
   "metadata": {},
   "source": [
    "<center> <img src=\"https://github.com/VinitaSilaparasetty/Coursera-Intermediate-Pandas/blob/master/media/binning%20data.gif?raw=true\" width=\"600\" height=\"800\">"
   ]
  },
  {
   "cell_type": "code",
   "execution_count": null,
   "metadata": {},
   "outputs": [],
   "source": []
  },
  {
   "cell_type": "code",
   "execution_count": null,
   "metadata": {},
   "outputs": [],
   "source": []
  },
  {
   "cell_type": "markdown",
   "metadata": {},
   "source": [
    "## <center>🏆 Challenge\n",
    "    \n",
    "Bin the data in df2 according to the expenditure on various sectors."
   ]
  },
  {
   "cell_type": "code",
   "execution_count": null,
   "metadata": {},
   "outputs": [],
   "source": []
  },
  {
   "cell_type": "code",
   "execution_count": null,
   "metadata": {},
   "outputs": [],
   "source": []
  }
 ],
 "metadata": {
  "kernelspec": {
   "display_name": "Python 3",
   "language": "python",
   "name": "python3"
  },
  "language_info": {
   "codemirror_mode": {
    "name": "ipython",
    "version": 3
   },
   "file_extension": ".py",
   "mimetype": "text/x-python",
   "name": "python",
   "nbconvert_exporter": "python",
   "pygments_lexer": "ipython3",
   "version": "3.6.9"
  },
  "latex_envs": {
   "LaTeX_envs_menu_present": true,
   "autoclose": false,
   "autocomplete": true,
   "bibliofile": "biblio.bib",
   "cite_by": "apalike",
   "current_citInitial": 1,
   "eqLabelWithNumbers": true,
   "eqNumInitial": 1,
   "hotkeys": {
    "equation": "Ctrl-E",
    "itemize": "Ctrl-I"
   },
   "labels_anchors": false,
   "latex_user_defs": false,
   "report_style_numbering": false,
   "user_envs_cfg": false
  }
 },
 "nbformat": 4,
 "nbformat_minor": 4
}
